{
 "cells": [
  {
   "cell_type": "code",
   "execution_count": 1,
   "metadata": {
    "collapsed": false
   },
   "outputs": [],
   "source": [
    "import sqlite3\n",
    "import numpy as np\n",
    "import pandas as pd\n",
    "import matplotlib.pyplot as plt\n",
    "%matplotlib inline"
   ]
  },
  {
   "cell_type": "code",
   "execution_count": null,
   "metadata": {
    "collapsed": true
   },
   "outputs": [],
   "source": [
    "# squal quary to get data from sqlite database:\n",
    "sqlite_file = '/home/vincent/sherlock/corporadb/testDB.db'\n",
    "conn = sqlite3.connect(sqlite_file)\n",
    "#table_name = 'email'\n",
    "#column_2 = 'subject'\n",
    "#c.execute('SELECT cn FROM {tn} '.\\\n",
    "#        format(tn=table_name,cn=column_2))\n",
    "#all_rows = c.fetchall()\n",
    "conn.close()"
   ]
  },
  {
   "cell_type": "markdown",
   "metadata": {},
   "source": [
    "## Popular words per topic"
   ]
  },
  {
   "cell_type": "code",
   "execution_count": 2,
   "metadata": {
    "collapsed": false
   },
   "outputs": [],
   "source": [
    "# create dummy data\n",
    "Ntopics = 5\n",
    "Ntopwords = 6\n",
    "woto = pd.DataFrame(data=np.random.rand(10,5),    # values\n",
    "        index=['a','b','c','d','e','f','g','h','i','j'],    # 1st column as index\n",
    "        columns=range(Ntopics))"
   ]
  },
  {
   "cell_type": "code",
   "execution_count": 3,
   "metadata": {
    "collapsed": false
   },
   "outputs": [
    {
     "data": {
      "text/html": [
       "<div>\n",
       "<table border=\"1\" class=\"dataframe\">\n",
       "  <thead>\n",
       "    <tr style=\"text-align: right;\">\n",
       "      <th></th>\n",
       "      <th>0</th>\n",
       "      <th>1</th>\n",
       "      <th>2</th>\n",
       "      <th>3</th>\n",
       "      <th>4</th>\n",
       "    </tr>\n",
       "  </thead>\n",
       "  <tbody>\n",
       "    <tr>\n",
       "      <th>a</th>\n",
       "      <td>0.389659</td>\n",
       "      <td>0.857517</td>\n",
       "      <td>0.439069</td>\n",
       "      <td>0.115568</td>\n",
       "      <td>0.700783</td>\n",
       "    </tr>\n",
       "    <tr>\n",
       "      <th>b</th>\n",
       "      <td>0.184241</td>\n",
       "      <td>0.171319</td>\n",
       "      <td>0.898882</td>\n",
       "      <td>0.170198</td>\n",
       "      <td>0.218503</td>\n",
       "    </tr>\n",
       "    <tr>\n",
       "      <th>c</th>\n",
       "      <td>0.531959</td>\n",
       "      <td>0.358786</td>\n",
       "      <td>0.249923</td>\n",
       "      <td>0.289445</td>\n",
       "      <td>0.025495</td>\n",
       "    </tr>\n",
       "    <tr>\n",
       "      <th>d</th>\n",
       "      <td>0.415037</td>\n",
       "      <td>0.973783</td>\n",
       "      <td>0.517403</td>\n",
       "      <td>0.415568</td>\n",
       "      <td>0.025380</td>\n",
       "    </tr>\n",
       "    <tr>\n",
       "      <th>e</th>\n",
       "      <td>0.578243</td>\n",
       "      <td>0.085453</td>\n",
       "      <td>0.041352</td>\n",
       "      <td>0.822633</td>\n",
       "      <td>0.172811</td>\n",
       "    </tr>\n",
       "    <tr>\n",
       "      <th>f</th>\n",
       "      <td>0.375271</td>\n",
       "      <td>0.271020</td>\n",
       "      <td>0.525210</td>\n",
       "      <td>0.026524</td>\n",
       "      <td>0.161932</td>\n",
       "    </tr>\n",
       "    <tr>\n",
       "      <th>g</th>\n",
       "      <td>0.201246</td>\n",
       "      <td>0.104691</td>\n",
       "      <td>0.260810</td>\n",
       "      <td>0.121093</td>\n",
       "      <td>0.550963</td>\n",
       "    </tr>\n",
       "    <tr>\n",
       "      <th>h</th>\n",
       "      <td>0.426952</td>\n",
       "      <td>0.038267</td>\n",
       "      <td>0.905881</td>\n",
       "      <td>0.198720</td>\n",
       "      <td>0.592777</td>\n",
       "    </tr>\n",
       "    <tr>\n",
       "      <th>i</th>\n",
       "      <td>0.709415</td>\n",
       "      <td>0.546189</td>\n",
       "      <td>0.886088</td>\n",
       "      <td>0.755526</td>\n",
       "      <td>0.139940</td>\n",
       "    </tr>\n",
       "    <tr>\n",
       "      <th>j</th>\n",
       "      <td>0.121015</td>\n",
       "      <td>0.853539</td>\n",
       "      <td>0.611583</td>\n",
       "      <td>0.470609</td>\n",
       "      <td>0.721849</td>\n",
       "    </tr>\n",
       "  </tbody>\n",
       "</table>\n",
       "</div>"
      ],
      "text/plain": [
       "          0         1         2         3         4\n",
       "a  0.389659  0.857517  0.439069  0.115568  0.700783\n",
       "b  0.184241  0.171319  0.898882  0.170198  0.218503\n",
       "c  0.531959  0.358786  0.249923  0.289445  0.025495\n",
       "d  0.415037  0.973783  0.517403  0.415568  0.025380\n",
       "e  0.578243  0.085453  0.041352  0.822633  0.172811\n",
       "f  0.375271  0.271020  0.525210  0.026524  0.161932\n",
       "g  0.201246  0.104691  0.260810  0.121093  0.550963\n",
       "h  0.426952  0.038267  0.905881  0.198720  0.592777\n",
       "i  0.709415  0.546189  0.886088  0.755526  0.139940\n",
       "j  0.121015  0.853539  0.611583  0.470609  0.721849"
      ]
     },
     "execution_count": 3,
     "metadata": {},
     "output_type": "execute_result"
    }
   ],
   "source": [
    "woto"
   ]
  },
  {
   "cell_type": "code",
   "execution_count": 8,
   "metadata": {
    "collapsed": false
   },
   "outputs": [
    {
     "name": "stdout",
     "output_type": "stream",
     "text": [
      "topic 0 [('i', '0.7'), ('e', '0.6'), ('c', '0.5'), ('h', '0.4'), ('d', '0.4'), ('a', '0.4')]\n",
      "topic 1 [('d', '1.0'), ('a', '0.9'), ('j', '0.9'), ('i', '0.5'), ('c', '0.4'), ('f', '0.3')]\n",
      "topic 2 [('h', '0.9'), ('b', '0.9'), ('i', '0.9'), ('j', '0.6'), ('f', '0.5'), ('d', '0.5')]\n",
      "topic 3 [('e', '0.8'), ('i', '0.8'), ('j', '0.5'), ('d', '0.4'), ('c', '0.3'), ('h', '0.2')]\n",
      "topic 4 [('j', '0.7'), ('a', '0.7'), ('h', '0.6'), ('g', '0.6'), ('b', '0.2'), ('e', '0.2')]\n"
     ]
    }
   ],
   "source": [
    "# print a maximum of 6 most popular words per topic that contribute at least 5% to a topic\n",
    "for i in range(Ntopics):\n",
    "    topwords = woto.loc[woto.loc[:,i]>0.05,i].sort_values(ascending=False)[0:Ntopwords]\n",
    "    topwordsprobs = ['%.1f' % element for element in list(topwords.values)]\n",
    "    print('topic ' + str(i) + ' ' + str(list(zip(list(topwords.index),topwordsprobs))))"
   ]
  },
  {
   "cell_type": "code",
   "execution_count": 9,
   "metadata": {
    "collapsed": false
   },
   "outputs": [],
   "source": [
    "topwordspropcontr = topwords.cumsum() / sum(topwords)"
   ]
  },
  {
   "cell_type": "code",
   "execution_count": 10,
   "metadata": {
    "collapsed": false
   },
   "outputs": [
    {
     "data": {
      "text/plain": [
       "[0.2440585658327982,\n",
       " 0.48099470296495217,\n",
       " 0.68141398919576346,\n",
       " 0.86769592151148878,\n",
       " 0.94157220403884623,\n",
       " 1.0]"
      ]
     },
     "execution_count": 10,
     "metadata": {},
     "output_type": "execute_result"
    }
   ],
   "source": [
    "list(topwordspropcontr.values)\n"
   ]
  },
  {
   "cell_type": "code",
   "execution_count": 23,
   "metadata": {
    "collapsed": false
   },
   "outputs": [
    {
     "data": {
      "text/plain": [
       "<matplotlib.text.Text at 0x7fc0ada65a20>"
      ]
     },
     "execution_count": 23,
     "metadata": {},
     "output_type": "execute_result"
    },
    {
     "data": {
      "image/png": "[encoded data removed]",
      "text/plain": [
       "<matplotlib.figure.Figure at 0x7fc0adb7def0>"
      ]
     },
     "metadata": {},
     "output_type": "display_data"
    }
   ],
   "source": [
    "# plot probabilty by word...\n",
    "plt.figure()\n",
    "for i in range(Ntopics):\n",
    "    topwords = woto.loc[woto.loc[:,i]>0.05,i].sort_values(ascending=False)[0:Ntopwords]\n",
    "    topwordsprobs = ['%.1f' % element for element in list(topwords.values)]\n",
    "    topwordspropcontr = topwords.cumsum() / sum(topwords)\n",
    "    plt.plot(range(1,len(list(topwordspropcontr.values))+1),list(topwordspropcontr.values),label=i)\n",
    "plt.legend(loc='best')\n",
    "plt.ylabel('cumulative proportional contribution')\n",
    "plt.xlabel('word')"
   ]
  },
  {
   "cell_type": "code",
   "execution_count": 21,
   "metadata": {
    "collapsed": false
   },
   "outputs": [
    {
     "data": {
      "text/plain": [
       "<matplotlib.text.Text at 0x7fc0adafde10>"
      ]
     },
     "execution_count": 21,
     "metadata": {},
     "output_type": "execute_result"
    },
    {
     "data": {
      "image/png": "[encoded data removed]",
      "text/plain": [
       "<matplotlib.figure.Figure at 0x7fc0adafcc88>"
      ]
     },
     "metadata": {},
     "output_type": "display_data"
    }
   ],
   "source": [
    "plt.figure()\n",
    "for i in range(Ntopics):\n",
    "    topwords = woto.loc[woto.loc[:,i]>0.05,i].sort_values(ascending=False)[0:Ntopwords]\n",
    "    topwordsprobs = ['%.1f' % element for element in list(topwords.values)]\n",
    "    plt.plot(range(1,len(topwordsprobs)+1),topwordsprobs,label=i)\n",
    "plt.legend(loc='best')\n",
    "plt.ylabel('probability')\n",
    "plt.xlabel('word')"
   ]
  },
  {
   "cell_type": "code",
   "execution_count": null,
   "metadata": {
    "collapsed": false
   },
   "outputs": [],
   "source": [
    "proportional_contr.values"
   ]
  },
  {
   "cell_type": "code",
   "execution_count": null,
   "metadata": {
    "collapsed": true
   },
   "outputs": [],
   "source": []
  },
  {
   "cell_type": "code",
   "execution_count": null,
   "metadata": {
    "collapsed": false
   },
   "outputs": [],
   "source": [
    "highvalues = np.where(proportional_contr > 0.7)"
   ]
  },
  {
   "cell_type": "code",
   "execution_count": null,
   "metadata": {
    "collapsed": false
   },
   "outputs": [],
   "source": [
    "?np.where"
   ]
  },
  {
   "cell_type": "markdown",
   "metadata": {},
   "source": [
    "## Topics over time"
   ]
  },
  {
   "cell_type": "code",
   "execution_count": null,
   "metadata": {
    "collapsed": true
   },
   "outputs": [],
   "source": [
    "# create dummy data\n",
    "dates = pd.date_range('1/1/2015', periods=12, freq='M')\n",
    "timeto = pd.DataFrame(data=np.random.rand(12,5),    # values\n",
    "        index=dates,    # 1st column as index\n",
    "        columns=range(Ntopics))"
   ]
  },
  {
   "cell_type": "code",
   "execution_count": null,
   "metadata": {
    "collapsed": false
   },
   "outputs": [],
   "source": [
    "plt.figure()\n",
    "timeto.plot(subplots=True,figsize=(9,6),ylim=(0,1))\n",
    "plt.legend(loc='best')\n",
    "plt.ylabel('contribution')\n",
    "plt.xlabel('time')"
   ]
  },
  {
   "cell_type": "code",
   "execution_count": null,
   "metadata": {
    "collapsed": false
   },
   "outputs": [],
   "source": [
    "#lineObject = plt.plot(timeto,label=timeto.columns.values)\n",
    "#plt.legend(iter(lineObject))\n",
    "#plt.ylabel('contribution')\n",
    "#plt.xlabel('time')\n",
    "#plt.xticks(rotation=70)\n",
    "#plt.legend(bbox_to_anchor=(1.05, 1),loc=9,borderaxespad=0.) # \n",
    "#plt.show()"
   ]
  },
  {
   "cell_type": "code",
   "execution_count": null,
   "metadata": {
    "collapsed": true
   },
   "outputs": [],
   "source": []
  }
 ],
 "metadata": {
  "anaconda-cloud": {},
  "kernelspec": {
   "display_name": "Python [conda env:sherlock]",
   "language": "python",
   "name": "conda-env-sherlock-py"
  },
  "language_info": {
   "codemirror_mode": {
    "name": "ipython",
    "version": 3
   },
   "file_extension": ".py",
   "mimetype": "text/x-python",
   "name": "python",
   "nbconvert_exporter": "python",
   "pygments_lexer": "ipython3",
   "version": "3.5.2"
  }
 },
 "nbformat": 4,
 "nbformat_minor": 1
}
