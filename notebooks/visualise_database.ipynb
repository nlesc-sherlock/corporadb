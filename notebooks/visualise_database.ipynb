{
 "cells": [
  {
   "cell_type": "code",
   "execution_count": 15,
   "metadata": {
    "collapsed": false
   },
   "outputs": [],
   "source": [
    "import sqlite3\n",
    "import numpy as np\n",
    "import pandas as pd\n",
    "import matplotlib.pyplot as plt\n",
    "%matplotlib inline"
   ]
  },
  {
   "cell_type": "markdown",
   "metadata": {},
   "source": [
    "### get word topic data"
   ]
  },
  {
   "cell_type": "code",
   "execution_count": 16,
   "metadata": {
    "collapsed": false
   },
   "outputs": [],
   "source": [
    "# sql query to get data:\n",
    "sqlite_file = '/home/vincent/sherlock/corporadb/data/testdb.db'\n",
    "conn = sqlite3.connect(sqlite_file)\n",
    "conn.row_factory = sqlite3.Row\n",
    "c = conn.cursor()\n",
    "c.execute('''SELECT topic_words.probability as wprob, topic.rowid as topicid, dict.word, topic_words.word_id,\n",
    "                lda_settings.number_of_topics\n",
    "             FROM topic_words\n",
    "             INNER JOIN TOPIC\n",
    "               ON topic_words.topic_id=topic.rowid\n",
    "             INNER JOIN LDA \n",
    "               ON LDA.rowid=topic.lda_id\n",
    "             INNER JOIN DATASET\n",
    "               ON lda.dataset_id=dataset.rowid\n",
    "             INNER JOIN lda_settings\n",
    "               ON lda_settings.rowid=lda.lda_settings_id\n",
    "             INNER JOIN dict\n",
    "               ON (dict.lda_id=lda.rowid AND dict.rowid=topic_words.word_id) \n",
    "             WHERE dataset.rowid=1''')\n",
    "wotoprob = c.fetchall()\n",
    "conn.close()"
   ]
  },
  {
   "cell_type": "code",
   "execution_count": 17,
   "metadata": {
    "collapsed": false
   },
   "outputs": [],
   "source": [
    "probabilities = [item['wprob'] for item in wotoprob]\n",
    "topicids = [item['topicid'] for item in wotoprob]\n",
    "words =[item['word'] for item in wotoprob]"
   ]
  },
  {
   "cell_type": "markdown",
   "metadata": {},
   "source": [
    "### get time topic data"
   ]
  },
  {
   "cell_type": "code",
   "execution_count": 26,
   "metadata": {
    "collapsed": false
   },
   "outputs": [],
   "source": [
    "# sql query to get data:\n",
    "sqlite_file = '/home/vincent/sherlock/corporadb/data/testdb.db'\n",
    "conn = sqlite3.connect(sqlite_file)\n",
    "conn.row_factory = sqlite3.Row\n",
    "c = conn.cursor()\n",
    "c.execute('''SELECT email.send_time as sendtime, email_blob.topic_id as topicid\n",
    "             FROM email_blob\n",
    "             INNER JOIN EMAIL\n",
    "               ON email_blob.email_id=email.rowid\n",
    "             INNER JOIN LDA \n",
    "               ON LDA.rowid=email_blob.lda_id\n",
    "             INNER JOIN DATASET\n",
    "               ON lda.dataset_id=dataset.rowid\n",
    "             INNER JOIN lda_settings\n",
    "               ON lda_settings.rowid=lda.lda_settings_id\n",
    "             WHERE dataset.rowid=1''')\n",
    "topictime = c.fetchall()\n",
    "conn.close()"
   ]
  },
  {
   "cell_type": "code",
   "execution_count": 34,
   "metadata": {
    "collapsed": false
   },
   "outputs": [],
   "source": [
    "sendtime =[item['sendtime'] for item in topictime]\n",
    "topicid =[item['topicid'] for item in topictime]"
   ]
  },
  {
   "cell_type": "code",
   "execution_count": null,
   "metadata": {
    "collapsed": false
   },
   "outputs": [],
   "source": [
    "probabilities = np.array(probabilities)\n",
    "topicids = np.array(topicids)\n",
    "words = np.array(words)"
   ]
  },
  {
   "cell_type": "code",
   "execution_count": null,
   "metadata": {
    "collapsed": true
   },
   "outputs": [],
   "source": [
    "wtp = pd.DataFrame(wotoprob,columns=['prob','topic','word','wordid','number of topics'])"
   ]
  },
  {
   "cell_type": "code",
   "execution_count": null,
   "metadata": {
    "collapsed": true
   },
   "outputs": [],
   "source": [
    "# print a maximum of 6 most popular words per topic that contribute at least 5% to a topic\n",
    "Ntopics = wtp['number of topics'][0]"
   ]
  },
  {
   "cell_type": "code",
   "execution_count": null,
   "metadata": {
    "collapsed": true
   },
   "outputs": [],
   "source": [
    "for i in range(Ntopics):\n",
    "    wotoprop wotoprop['topic'] =0\n",
    "    #topwords = woto.loc[woto.loc[:,i]>0.05,i].sort_values(ascending=False)[0:Ntopwords]\n",
    "    #topwordsprobs = ['%.1f' % element for element in list(topwords.values)]\n",
    "    #print('topic ' + str(i) + ' ' + str(list(zip(list(topwords.index),topwordsprobs))))"
   ]
  },
  {
   "cell_type": "code",
   "execution_count": null,
   "metadata": {
    "collapsed": true
   },
   "outputs": [],
   "source": []
  },
  {
   "cell_type": "markdown",
   "metadata": {},
   "source": [
    "### Print popular words per topic (based on dummy data)"
   ]
  },
  {
   "cell_type": "code",
   "execution_count": null,
   "metadata": {
    "collapsed": false
   },
   "outputs": [],
   "source": [
    "# create dummy data\n",
    "Ntopics = 5\n",
    "Ntopwords = 6\n",
    "woto = pd.DataFrame(data=np.random.rand(10,5),    # values\n",
    "        index=['a','b','c','d','e','f','g','h','i','j'],    # 1st column as index\n",
    "        columns=range(Ntopics))"
   ]
  },
  {
   "cell_type": "code",
   "execution_count": null,
   "metadata": {
    "collapsed": false
   },
   "outputs": [],
   "source": [
    "woto"
   ]
  },
  {
   "cell_type": "code",
   "execution_count": null,
   "metadata": {
    "collapsed": false
   },
   "outputs": [],
   "source": [
    "# print a maximum of 6 most popular words per topic that contribute at least 5% to a topic\n",
    "for i in range(Ntopics):\n",
    "    topwords = woto.loc[woto.loc[:,i]>0.05,i].sort_values(ascending=False)[0:Ntopwords]\n",
    "    topwordsprobs = ['%.1f' % element for element in list(topwords.values)]\n",
    "    print('topic ' + str(i) + ' ' + str(list(zip(list(topwords.index),topwordsprobs))))"
   ]
  },
  {
   "cell_type": "code",
   "execution_count": null,
   "metadata": {
    "collapsed": false
   },
   "outputs": [],
   "source": [
    "topwordspropcontr = topwords.cumsum() / sum(topwords)"
   ]
  },
  {
   "cell_type": "code",
   "execution_count": null,
   "metadata": {
    "collapsed": false
   },
   "outputs": [],
   "source": [
    "list(topwordspropcontr.values)\n"
   ]
  },
  {
   "cell_type": "code",
   "execution_count": null,
   "metadata": {
    "collapsed": false
   },
   "outputs": [],
   "source": [
    "# plot probabilty by word...\n",
    "plt.figure()\n",
    "for i in range(Ntopics):\n",
    "    topwords = woto.loc[woto.loc[:,i]>0.05,i].sort_values(ascending=False)[0:Ntopwords]\n",
    "    topwordsprobs = ['%.1f' % element for element in list(topwords.values)]\n",
    "    topwordspropcontr = topwords.cumsum() / sum(topwords)\n",
    "    plt.plot(range(1,len(list(topwordspropcontr.values))+1),list(topwordspropcontr.values),label=i)\n",
    "plt.legend(loc='best')\n",
    "plt.ylabel('cumulative proportional contribution')\n",
    "plt.xlabel('word')"
   ]
  },
  {
   "cell_type": "code",
   "execution_count": null,
   "metadata": {
    "collapsed": false
   },
   "outputs": [],
   "source": [
    "plt.figure()\n",
    "for i in range(Ntopics):\n",
    "    topwords = woto.loc[woto.loc[:,i]>0.05,i].sort_values(ascending=False)[0:Ntopwords]\n",
    "    topwordsprobs = ['%.1f' % element for element in list(topwords.values)]\n",
    "    plt.plot(range(1,len(topwordsprobs)+1),topwordsprobs,label=i)\n",
    "plt.legend(loc='best')\n",
    "plt.ylabel('probability')\n",
    "plt.xlabel('word')"
   ]
  },
  {
   "cell_type": "code",
   "execution_count": null,
   "metadata": {
    "collapsed": false
   },
   "outputs": [],
   "source": [
    "proportional_contr.values"
   ]
  },
  {
   "cell_type": "code",
   "execution_count": null,
   "metadata": {
    "collapsed": false
   },
   "outputs": [],
   "source": [
    "highvalues = np.where(proportional_contr > 0.7)"
   ]
  },
  {
   "cell_type": "markdown",
   "metadata": {},
   "source": [
    "### Print topics over time dummy data"
   ]
  },
  {
   "cell_type": "code",
   "execution_count": null,
   "metadata": {
    "collapsed": true
   },
   "outputs": [],
   "source": [
    "# create dummy data\n",
    "dates = pd.date_range('1/1/2015', periods=12, freq='M')\n",
    "timeto = pd.DataFrame(data=np.random.rand(12,5),    # values\n",
    "        index=dates,    # 1st column as index\n",
    "        columns=range(Ntopics))"
   ]
  },
  {
   "cell_type": "code",
   "execution_count": null,
   "metadata": {
    "collapsed": false
   },
   "outputs": [],
   "source": [
    "plt.figure()\n",
    "timeto.plot(subplots=True,figsize=(9,6),ylim=(0,1))\n",
    "plt.legend(loc='best')\n",
    "plt.ylabel('contribution')\n",
    "plt.xlabel('time')"
   ]
  },
  {
   "cell_type": "code",
   "execution_count": null,
   "metadata": {
    "collapsed": false
   },
   "outputs": [],
   "source": [
    "#lineObject = plt.plot(timeto,label=timeto.columns.values)\n",
    "#plt.legend(iter(lineObject))\n",
    "#plt.ylabel('contribution')\n",
    "#plt.xlabel('time')\n",
    "#plt.xticks(rotation=70)\n",
    "#plt.legend(bbox_to_anchor=(1.05, 1),loc=9,borderaxespad=0.) # \n",
    "#plt.show()"
   ]
  },
  {
   "cell_type": "code",
   "execution_count": null,
   "metadata": {
    "collapsed": true
   },
   "outputs": [],
   "source": []
  }
 ],
 "metadata": {
  "anaconda-cloud": {},
  "kernelspec": {
   "display_name": "Python [conda env:sherlock]",
   "language": "python",
   "name": "conda-env-sherlock-py"
  },
  "language_info": {
   "codemirror_mode": {
    "name": "ipython",
    "version": 3
   },
   "file_extension": ".py",
   "mimetype": "text/x-python",
   "name": "python",
   "nbconvert_exporter": "python",
   "pygments_lexer": "ipython3",
   "version": "3.5.2"
  }
 },
 "nbformat": 4,
 "nbformat_minor": 1
}
